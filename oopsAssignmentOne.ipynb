{
 "cells": [
  {
   "cell_type": "code",
   "execution_count": null,
   "id": "9dc727ce-29ba-4309-8c3f-202b5ac4c411",
   "metadata": {},
   "outputs": [],
   "source": [
    "#1.)\n",
    "\n",
    "#Class is just a bluePrint of a set of real world entity i.e. set of objects. Object is an instance of a class \n",
    "#i.e. a real world entity that has its own enitiy. \n",
    "\"\"\"For example : Animal is a class  whereas Dog is a real world entity or object of the Animal class\"\"\""
   ]
  },
  {
   "cell_type": "code",
   "execution_count": null,
   "id": "dd8d8f2b-0e28-438f-bee2-6e47f69aa3f1",
   "metadata": {},
   "outputs": [],
   "source": [
    "#2.) \n",
    "\"\"\"The four pillars of oops are \n",
    "1.) Abstraction \n",
    "2.) Encapsulation \n",
    "3.) Inheritance \n",
    "4.) Polymorphism\"\"\""
   ]
  },
  {
   "cell_type": "code",
   "execution_count": null,
   "id": "020fc442-0e5c-41d8-9c70-cf3f44655ed4",
   "metadata": {},
   "outputs": [],
   "source": [
    "#3.) \n",
    "\"\"\"The __init__() function is used to initiallize the attributes of the object. It is envoked whenever we create \n",
    "an object of the class for ex:-\"\"\"\n",
    "\n",
    "class Animal:\n",
    "    def __init__(self, name, behaviour):\n",
    "        self.name = name\n",
    "        self.behaviour = behaviour"
   ]
  },
  {
   "cell_type": "code",
   "execution_count": null,
   "id": "a3666c9c-6022-4dbc-aae3-e667b3b7eb7a",
   "metadata": {},
   "outputs": [],
   "source": [
    "#4.)\n",
    "\"\"\"self is  used to bind the aquired attributes to the class itself. \n",
    "It allows the method to access and modify the attributes of the current object \"\"\""
   ]
  },
  {
   "cell_type": "code",
   "execution_count": null,
   "id": "5bd63663-9ec7-4146-bd52-b6cb43b28429",
   "metadata": {},
   "outputs": [],
   "source": [
    "#5.)\n",
    "\"\"\"The process by which one class accuires/inherits the properties of another class. The class inheriting\n",
    "the property is known as the child class and the class whose properties are being inherited are known as the \n",
    "parent class\"\"\"\n",
    "\n",
    "\"\"\"There are basically two types of inheritance in python\n",
    "1.) multilevel inheritance and 2.) multiple inheritance \"\"\"\n",
    "\n",
    "\"\"\"Example for multi level inheritance \"\"\"\n",
    "class A:\n",
    "    def show(self):\n",
    "        return \"in show\"\n",
    "    \n",
    "class B(A):\n",
    "    def show1(self):\n",
    "        return \"in show1\"\n",
    "    #here we can even access the show method of the parent class\n",
    "    \n",
    "\"\"\"Example for multiple inheritance \"\"\"\n",
    "\n",
    "class C:\n",
    "    def show2(self):\n",
    "        print(\"In show2\")\n",
    "        \n",
    "class D:\n",
    "    def show3(self):\n",
    "        print(\"In show3\")\n",
    "        \n",
    "class E(C,D):\n",
    "    def show4(self):\n",
    "        print(\"In show4\")\n",
    "    #here we can even access the methods of class C and D"
   ]
  }
 ],
 "metadata": {
  "kernelspec": {
   "display_name": "Python 3 (ipykernel)",
   "language": "python",
   "name": "python3"
  },
  "language_info": {
   "codemirror_mode": {
    "name": "ipython",
    "version": 3
   },
   "file_extension": ".py",
   "mimetype": "text/x-python",
   "name": "python",
   "nbconvert_exporter": "python",
   "pygments_lexer": "ipython3",
   "version": "3.10.8"
  }
 },
 "nbformat": 4,
 "nbformat_minor": 5
}
