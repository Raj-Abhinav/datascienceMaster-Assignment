{
 "cells": [
  {
   "cell_type": "code",
   "execution_count": null,
   "id": "4859316f-e691-41da-9f7e-b1220b754a52",
   "metadata": {},
   "outputs": [],
   "source": [
    "\"\"\"1.)  def function is used to create function in python\"\"\"\n",
    "\n",
    "l1 = [1,2,3,4,5,6,7,8,9,10,11,12,13,14,15,16,17,18,19,20,21,22,23,24,25]\n",
    "\n",
    "def func(x):\n",
    "    l=[]\n",
    "    for i in range x:\n",
    "        if i%2==0:\n",
    "            l.append(i+1)"
   ]
  },
  {
   "cell_type": "code",
   "execution_count": 1,
   "id": "e166b188-74b7-434b-ab10-7e59f9d846be",
   "metadata": {},
   "outputs": [],
   "source": [
    "\"\"\"2.) when we use *args the function returns the inputed value in tuples and when we use **kwargs the function\n",
    "return the inputed values in the form of key value pairs i.e. in the form of a dictionary...\"\"\"\n",
    "\n",
    "def func1(*args):\n",
    "    return args\n",
    "\n",
    "def func2(**kwargs):\n",
    "    return kwargs\n",
    "\n"
   ]
  },
  {
   "cell_type": "code",
   "execution_count": null,
   "id": "fa1f9ad4-bbd6-44e8-966b-c66421d0c77c",
   "metadata": {},
   "outputs": [],
   "source": [
    "\"\"\"3.) An iterator in python is an object that allows us to iterate over a collection of data.\n",
    "The iter() method is used to initialize an iterator in python. The next() method performs the iteration\"\"\"\n",
    "\n",
    "\n",
    "\n",
    "s = \"Abhinav\"\n",
    "x = iter(s)\n",
    "next(x)"
   ]
  },
  {
   "cell_type": "code",
   "execution_count": null,
   "id": "d13f6b87-58c9-4378-9fce-69e9a5ff1a77",
   "metadata": {},
   "outputs": [],
   "source": [
    "\"\"\"4.) A generator function is a type of function that yields a value one by one and displays ... unlike storing \n",
    "the iterated data in the memory and displaying at once...Yield keyword yields values one by one\"\"\"\n",
    "\n",
    "\"\"\"example of a generator function\"\"\"\n",
    "\n",
    "def func_fib(n):\n",
    "    a = 0\n",
    "    b = 1\n",
    "    for i in range(n):\n",
    "        yield a\n",
    "        a, b = b, a+b"
   ]
  },
  {
   "cell_type": "code",
   "execution_count": 22,
   "id": "e700caea-c50a-4f22-8452-d34624bdc122",
   "metadata": {},
   "outputs": [],
   "source": [
    "\"\"\"5.)\"\"\"\n",
    "\n",
    "def generate_prime():\n",
    "    \n",
    "    n = 2\n",
    "    while(n<1001):\n",
    "        flag = False\n",
    "        if n == 0 or n == 1:\n",
    "            print(\"Not Prime...\")\n",
    "            break\n",
    "        for i in range(2, int(n**0.5)):\n",
    "            if n % i == 0:\n",
    "                flag = True\n",
    "        if flag == False:\n",
    "            yield n\n",
    "        n += 1\n",
    "            \n",
    "\n",
    "                \n",
    "                "
   ]
  },
  {
   "cell_type": "code",
   "execution_count": 23,
   "id": "05a4b8f0-35d4-47cd-8a6a-f05b7e09d442",
   "metadata": {},
   "outputs": [
    {
     "name": "stdout",
     "output_type": "stream",
     "text": [
      "2\n",
      "3\n",
      "4\n",
      "5\n",
      "6\n",
      "7\n",
      "8\n",
      "9\n",
      "11\n",
      "13\n",
      "15\n",
      "17\n",
      "19\n",
      "23\n",
      "25\n",
      "29\n",
      "31\n",
      "35\n",
      "37\n",
      "41\n",
      "43\n",
      "47\n",
      "49\n",
      "53\n",
      "59\n",
      "61\n",
      "67\n",
      "71\n",
      "73\n",
      "79\n",
      "83\n",
      "89\n",
      "97\n",
      "101\n",
      "103\n",
      "107\n",
      "109\n",
      "113\n",
      "121\n",
      "127\n",
      "131\n",
      "137\n",
      "139\n",
      "143\n",
      "149\n",
      "151\n",
      "157\n",
      "163\n",
      "167\n",
      "169\n",
      "173\n",
      "179\n",
      "181\n",
      "191\n",
      "193\n",
      "197\n",
      "199\n",
      "211\n",
      "223\n",
      "227\n",
      "229\n",
      "233\n",
      "239\n",
      "241\n",
      "251\n",
      "257\n",
      "263\n",
      "269\n",
      "271\n",
      "277\n",
      "281\n",
      "283\n",
      "289\n",
      "293\n",
      "307\n",
      "311\n",
      "313\n",
      "317\n",
      "323\n",
      "331\n",
      "337\n",
      "347\n",
      "349\n",
      "353\n",
      "359\n",
      "361\n",
      "367\n",
      "373\n",
      "379\n",
      "383\n",
      "389\n",
      "397\n",
      "401\n",
      "409\n",
      "419\n",
      "421\n",
      "431\n",
      "433\n",
      "439\n",
      "443\n",
      "449\n",
      "457\n",
      "461\n",
      "463\n",
      "467\n",
      "479\n",
      "487\n",
      "491\n",
      "499\n",
      "503\n",
      "509\n",
      "521\n",
      "523\n",
      "529\n",
      "541\n",
      "547\n",
      "557\n",
      "563\n",
      "569\n",
      "571\n",
      "577\n",
      "587\n",
      "593\n",
      "599\n",
      "601\n",
      "607\n",
      "613\n",
      "617\n",
      "619\n",
      "631\n",
      "641\n",
      "643\n",
      "647\n",
      "653\n",
      "659\n",
      "661\n",
      "673\n",
      "677\n",
      "683\n",
      "691\n",
      "701\n",
      "709\n",
      "719\n",
      "727\n",
      "733\n",
      "739\n",
      "743\n",
      "751\n",
      "757\n",
      "761\n",
      "769\n",
      "773\n",
      "787\n",
      "797\n",
      "809\n",
      "811\n",
      "821\n",
      "823\n",
      "827\n",
      "829\n",
      "839\n",
      "841\n",
      "853\n",
      "857\n",
      "859\n",
      "863\n",
      "877\n",
      "881\n",
      "883\n",
      "887\n",
      "899\n",
      "907\n",
      "911\n",
      "919\n",
      "929\n",
      "937\n",
      "941\n",
      "947\n",
      "953\n",
      "961\n",
      "967\n",
      "971\n",
      "977\n",
      "983\n",
      "991\n",
      "997\n"
     ]
    }
   ],
   "source": [
    "for i in generate_prime():\n",
    "    print(i)"
   ]
  },
  {
   "cell_type": "code",
   "execution_count": 32,
   "id": "8c50e866-1cc5-44b0-a3fa-4a2790085947",
   "metadata": {},
   "outputs": [],
   "source": [
    "x = generate_prime()"
   ]
  },
  {
   "cell_type": "code",
   "execution_count": 37,
   "id": "30c97bb9-bd5a-4771-b49b-d58b29bf50a3",
   "metadata": {},
   "outputs": [
    {
     "data": {
      "text/plain": [
       "2"
      ]
     },
     "execution_count": 37,
     "metadata": {},
     "output_type": "execute_result"
    }
   ],
   "source": [
    "next(x)"
   ]
  },
  {
   "cell_type": "code",
   "execution_count": 38,
   "id": "c58e7576-650a-4cb0-8b64-2efcf5110a6c",
   "metadata": {},
   "outputs": [
    {
     "data": {
      "text/plain": [
       "3"
      ]
     },
     "execution_count": 38,
     "metadata": {},
     "output_type": "execute_result"
    }
   ],
   "source": [
    "next(x)"
   ]
  },
  {
   "cell_type": "code",
   "execution_count": 41,
   "id": "e10c9020-50b2-442f-b368-37e56c3d17e0",
   "metadata": {},
   "outputs": [
    {
     "name": "stdout",
     "output_type": "stream",
     "text": [
      "139\n",
      "143\n",
      "149\n",
      "151\n",
      "157\n",
      "163\n",
      "167\n",
      "169\n",
      "173\n",
      "179\n",
      "181\n",
      "191\n",
      "193\n",
      "197\n",
      "199\n",
      "211\n",
      "223\n",
      "227\n",
      "229\n",
      "233\n"
     ]
    }
   ],
   "source": [
    "for i in range(20):\n",
    "    print(next(x))"
   ]
  },
  {
   "cell_type": "code",
   "execution_count": 48,
   "id": "f215682a-5a56-4f73-a229-6993acba3ff3",
   "metadata": {},
   "outputs": [],
   "source": [
    "\"\"\"(6.)\"\"\"\n",
    "\n",
    "def fib():\n",
    "    a, b = 0, 1\n",
    "    while true:\n",
    "        yield a\n",
    "        a, b = b, a+b\n",
    "        i = i-1\n",
    "        \n",
    "\n",
    "    "
   ]
  },
  {
   "cell_type": "code",
   "execution_count": 51,
   "id": "50f3e62c-4fc1-4762-b7f9-18e384f44ccc",
   "metadata": {},
   "outputs": [],
   "source": [
    "fib = fib()"
   ]
  },
  {
   "cell_type": "code",
   "execution_count": 57,
   "id": "487be92c-9882-456c-90b1-ff642b4405c1",
   "metadata": {},
   "outputs": [
    {
     "name": "stdout",
     "output_type": "stream",
     "text": [
      "12586269025\n",
      "20365011074\n",
      "32951280099\n",
      "53316291173\n",
      "86267571272\n",
      "139583862445\n",
      "225851433717\n",
      "365435296162\n",
      "591286729879\n",
      "956722026041\n"
     ]
    }
   ],
   "source": [
    "for i in range(10):\n",
    "    print(next(fib))"
   ]
  },
  {
   "cell_type": "code",
   "execution_count": 58,
   "id": "fcfa4240-56ff-4bb1-9a86-b3d48721dad1",
   "metadata": {},
   "outputs": [],
   "source": [
    "\"\"\" (7.)\"\"\"\n",
    "\n",
    "s = 'pwskills'"
   ]
  },
  {
   "cell_type": "code",
   "execution_count": 60,
   "id": "9e41afd0-e9ea-463c-b017-2baaacd6f80a",
   "metadata": {},
   "outputs": [
    {
     "name": "stdout",
     "output_type": "stream",
     "text": [
      "['p', 'w', 's', 'k', 'i', 'l', 'l', 's']\n"
     ]
    }
   ],
   "source": [
    "l = []\n",
    "for i in s:\n",
    "    l.append(i)\n",
    "    \n",
    "print(l)\n",
    "    "
   ]
  },
  {
   "cell_type": "code",
   "execution_count": null,
   "id": "5d7f6c1c-3cf1-475d-9b90-113cc5e43eb5",
   "metadata": {},
   "outputs": [],
   "source": [
    "\"\"\"8.)\"\"\"\n",
    "def is_palindrom(num):\n",
    "    n = num\n",
    "    reverse_num = 0\n",
    "    while num>0:\n",
    "        digit = num%10\n",
    "        reverse_num = reverse_num*10+digit\n",
    "        num //= 10\n",
    "    return reverse_num == n\n",
    "        "
   ]
  },
  {
   "cell_type": "code",
   "execution_count": null,
   "id": "748ccc20-1bb5-4bd2-b0da-f98a8dfedecd",
   "metadata": {},
   "outputs": [],
   "source": [
    "num = 131\n",
    "\n",
    "if is_palindrom(num):\n",
    "    print('is a palindrome')\n",
    "else:\n",
    "    print('is not a palindrome')"
   ]
  },
  {
   "cell_type": "code",
   "execution_count": null,
   "id": "057bead0-50ff-4c5d-b8a7-3b16bd72fc9a",
   "metadata": {},
   "outputs": [],
   "source": [
    "\"\"\"9.)\"\"\"\n",
    "\n",
    "odd_numbers = [num for num in range(1, 101) if num%2 != 0]\n",
    "print(odd_numbers)"
   ]
  },
  {
   "cell_type": "code",
   "execution_count": null,
   "id": "e33ada91-e20c-4431-bb2c-902cb501695f",
   "metadata": {},
   "outputs": [],
   "source": []
  },
  {
   "cell_type": "code",
   "execution_count": null,
   "id": "3bdf0bfc-6625-4d56-8a72-8d8d6e62c1ee",
   "metadata": {},
   "outputs": [],
   "source": []
  }
 ],
 "metadata": {
  "kernelspec": {
   "display_name": "Python 3 (ipykernel)",
   "language": "python",
   "name": "python3"
  },
  "language_info": {
   "codemirror_mode": {
    "name": "ipython",
    "version": 3
   },
   "file_extension": ".py",
   "mimetype": "text/x-python",
   "name": "python",
   "nbconvert_exporter": "python",
   "pygments_lexer": "ipython3",
   "version": "3.10.8"
  }
 },
 "nbformat": 4,
 "nbformat_minor": 5
}
