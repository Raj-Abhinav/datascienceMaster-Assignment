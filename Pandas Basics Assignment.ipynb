{
 "cells": [
  {
   "cell_type": "code",
   "execution_count": 1,
   "id": "ee104480-a90b-4529-ab27-2de3f127b194",
   "metadata": {},
   "outputs": [],
   "source": [
    "#1.) \n",
    "import pandas as pd"
   ]
  },
  {
   "cell_type": "code",
   "execution_count": 3,
   "id": "c4c0de05-94ef-479b-85fa-d5ea46038190",
   "metadata": {},
   "outputs": [],
   "source": [
    "data = [4,8,15,16,23,42]\n",
    "series = pd.Series(data)"
   ]
  },
  {
   "cell_type": "code",
   "execution_count": 4,
   "id": "80e2cd47-09a7-4f8b-9263-11e6f3ef83c9",
   "metadata": {},
   "outputs": [
    {
     "name": "stdout",
     "output_type": "stream",
     "text": [
      "0     4\n",
      "1     8\n",
      "2    15\n",
      "3    16\n",
      "4    23\n",
      "5    42\n",
      "dtype: int64\n"
     ]
    }
   ],
   "source": [
    "print(series)"
   ]
  },
  {
   "cell_type": "code",
   "execution_count": 5,
   "id": "b695043c-76da-4780-9851-e110a31bae3e",
   "metadata": {},
   "outputs": [
    {
     "name": "stdout",
     "output_type": "stream",
     "text": [
      "0    0\n",
      "1    1\n",
      "2    2\n",
      "3    3\n",
      "4    4\n",
      "5    5\n",
      "6    6\n",
      "7    7\n",
      "8    8\n",
      "9    9\n",
      "dtype: int64\n"
     ]
    }
   ],
   "source": [
    "#2.) \n",
    "data = [0,1,2,3,4,5,6,7,8,9]\n",
    "print(pd.Series(data))"
   ]
  },
  {
   "cell_type": "code",
   "execution_count": 9,
   "id": "78f30d57-4fbb-4ece-a958-7c48fd12205e",
   "metadata": {},
   "outputs": [
    {
     "name": "stdout",
     "output_type": "stream",
     "text": [
      "     Name  Age  Gender\n",
      "0   Alice   25  Female\n",
      "1     Bob   30    Male\n",
      "2  Claire   27  Female\n"
     ]
    }
   ],
   "source": [
    "#3.)\n",
    "data={'Name':['Alice','Bob','Claire'],\n",
    "      'Age':[25,30,27],\n",
    "      'Gender':['Female','Male','Female']}\n",
    "df = pd.DataFrame(data)\n",
    "print(df)"
   ]
  },
  {
   "cell_type": "code",
   "execution_count": 14,
   "id": "66647993-8485-4471-b103-cc1ed25fa545",
   "metadata": {},
   "outputs": [
    {
     "name": "stdout",
     "output_type": "stream",
     "text": [
      "     Name  Age  Gender\n",
      "0   Alice   25  Female\n",
      "1     Bob   30    Male\n",
      "2  Claire   27  Female\n",
      ":\n",
      "0    25\n",
      "1    30\n",
      "2    27\n",
      "Name: Age, dtype: int64\n"
     ]
    }
   ],
   "source": [
    "#4.) \"\"\"In pandas DataFrame is a Group of data arranged in rows and columns just like all those sql and other db's....where each column is a pandas series\n",
    "Whereas series is a single column of consisting of data's\"\"\"\n",
    "\n",
    "data={'Name':['Alice','Bob','Claire'],\n",
    "      'Age':[25,30,27],\n",
    "      'Gender':['Female','Male','Female']}\n",
    "df = pd.DataFrame(data)\n",
    "\n",
    "series = df['Age']\n",
    "\n",
    "print(df)\n",
    "\n",
    "print(':')\n",
    "\n",
    "print(series)\n",
    "\n",
    "\n",
    "\n",
    "\n",
    "\n"
   ]
  },
  {
   "cell_type": "code",
   "execution_count": 15,
   "id": "5ccac60b-6fd0-4b1c-84b6-1db4c866e82b",
   "metadata": {},
   "outputs": [],
   "source": [
    "#5.)Some functons used in pandas are head(), tail(),to_csv()....etc\n",
    "\n",
    "# ex:- Lets say when i want to store the data i have read from a website then i use .to_csv() or to_excel() functions to store the recieved data in csv or excel format...\n"
   ]
  },
  {
   "cell_type": "code",
   "execution_count": 16,
   "id": "af357ff7-becb-480d-a702-d24205371871",
   "metadata": {},
   "outputs": [],
   "source": [
    "#6.) Among the three only DataFrame is mutable rest two are immutable"
   ]
  },
  {
   "cell_type": "code",
   "execution_count": 17,
   "id": "f7ad5046-fae3-42aa-ac18-c978adc44b7b",
   "metadata": {},
   "outputs": [],
   "source": [
    "#7.)\n",
    "Name = pd.Series(['Alice','Bob','Claire'])\n",
    "Age = pd.Series([25,30,27])\n",
    "\n"
   ]
  },
  {
   "cell_type": "code",
   "execution_count": 18,
   "id": "891b92b7-49da-4c7e-b574-5a822c9a7211",
   "metadata": {},
   "outputs": [],
   "source": [
    "data = {'Name' :Name, 'Age':Age}\n",
    "df = pd.DataFrame(data)"
   ]
  },
  {
   "cell_type": "code",
   "execution_count": 19,
   "id": "e2fc424a-9057-41e0-8272-aadb6a87f285",
   "metadata": {},
   "outputs": [
    {
     "name": "stdout",
     "output_type": "stream",
     "text": [
      "     Name  Age\n",
      "0   Alice   25\n",
      "1     Bob   30\n",
      "2  Claire   27\n"
     ]
    }
   ],
   "source": [
    "print(df)"
   ]
  },
  {
   "cell_type": "code",
   "execution_count": null,
   "id": "3fd32dc6-4143-48ab-811e-1f82f61041ec",
   "metadata": {},
   "outputs": [],
   "source": []
  }
 ],
 "metadata": {
  "kernelspec": {
   "display_name": "Python 3 (ipykernel)",
   "language": "python",
   "name": "python3"
  },
  "language_info": {
   "codemirror_mode": {
    "name": "ipython",
    "version": 3
   },
   "file_extension": ".py",
   "mimetype": "text/x-python",
   "name": "python",
   "nbconvert_exporter": "python",
   "pygments_lexer": "ipython3",
   "version": "3.10.8"
  }
 },
 "nbformat": 4,
 "nbformat_minor": 5
}
