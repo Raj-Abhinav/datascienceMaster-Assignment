{
 "cells": [
  {
   "cell_type": "code",
   "execution_count": 1,
   "id": "7b743a66-57f7-4de7-9ed8-8f6adc39da6c",
   "metadata": {},
   "outputs": [],
   "source": [
    "\"\"\"1.)\n",
    "\n",
    "Abstraction is the process of handling complexity by hiding unnecessary information from the user and showing\n",
    "only the essential one's.\n",
    "\n",
    "For example :\"\"\"\n",
    "\n",
    "import abc\n",
    "\n",
    "class pwskills:\n",
    "    @abc.abstractmethod\n",
    "    def student_details(self):\n",
    "        pass\n",
    "    \n",
    "    @abc.abstractmethod\n",
    "    def student_assignment(self):\n",
    "        pass\n",
    "    \n",
    "    @abc.abstractmethod\n",
    "    def student_marks(self):\n",
    "        pass\n",
    "    \n",
    "    \n",
    "class student_detils:\n",
    "    def student_details(self):\n",
    "        return \"This is a method for taking student details...\""
   ]
  },
  {
   "cell_type": "code",
   "execution_count": null,
   "id": "74221d8a-506b-4dfc-b2f5-cca09b6a9447",
   "metadata": {},
   "outputs": [],
   "source": [
    "\"\"\"2.)\n",
    "\n",
    "ABSTRACTION: its purpose is to hide the implementation from the user and showing only essential things...\n",
    "ECAPSULATION: its purpose is to hide the internel data/methods of an object in order to save it from \n",
    "direct access or modification...\n",
    "\n",
    "For example :\"\"\"\n",
    "\n",
    "class abcd:\n",
    "    @abc.abstractmethod\n",
    "    def abcde(self):\n",
    "        pass\n",
    "    \n",
    "class abce:\n",
    "    def __init__(self, year, name):\n",
    "        self.__year = year\n",
    "        self.__name = name"
   ]
  },
  {
   "cell_type": "code",
   "execution_count": null,
   "id": "c0ea434d-d5b8-48bf-9ebc-9f5f3b8f4373",
   "metadata": {},
   "outputs": [],
   "source": [
    "\"\"\"3.)\n",
    "\n",
    "The abc module in python basically provides tools to declare abstract classes\n",
    "\n",
    "Its used to declare abstract base classes...\"\"\""
   ]
  },
  {
   "cell_type": "code",
   "execution_count": null,
   "id": "951941fa-4047-4801-b381-6c545cf84831",
   "metadata": {},
   "outputs": [],
   "source": [
    "\"\"\"4.)\n",
    "\n",
    "we can achieve data abstraction by declaring the class as abstract or by using interfaces...\"\"\""
   ]
  },
  {
   "cell_type": "code",
   "execution_count": null,
   "id": "b5a290f2-4bf9-4b2d-8481-078c3895583e",
   "metadata": {},
   "outputs": [],
   "source": [
    "\"\"\"5.)\n",
    "\n",
    "No, we directly cannot create the instance of an abstract class because the methods/functions are not \n",
    "fully defined...\"\"\""
   ]
  }
 ],
 "metadata": {
  "kernelspec": {
   "display_name": "Python 3 (ipykernel)",
   "language": "python",
   "name": "python3"
  },
  "language_info": {
   "codemirror_mode": {
    "name": "ipython",
    "version": 3
   },
   "file_extension": ".py",
   "mimetype": "text/x-python",
   "name": "python",
   "nbconvert_exporter": "python",
   "pygments_lexer": "ipython3",
   "version": "3.10.8"
  }
 },
 "nbformat": 4,
 "nbformat_minor": 5
}
