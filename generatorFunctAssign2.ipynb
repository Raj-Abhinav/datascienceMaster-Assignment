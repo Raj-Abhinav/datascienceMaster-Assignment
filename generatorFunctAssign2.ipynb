{
 "cells": [
  {
   "cell_type": "code",
   "execution_count": 2,
   "id": "f663caff-ff32-4019-ae8e-3e53471fc24e",
   "metadata": {},
   "outputs": [
    {
     "data": {
      "text/plain": [
       "[1, 4, 9, 16, 25, 36]"
      ]
     },
     "execution_count": 2,
     "metadata": {},
     "output_type": "execute_result"
    }
   ],
   "source": [
    "#2.)\n",
    "\n",
    "l1 = [1,2,3,4,5,6]\n",
    "\n",
    "list(map(lambda x : x**2, l1))"
   ]
  },
  {
   "cell_type": "code",
   "execution_count": 4,
   "id": "a76f463c-2f18-4d61-b614-9acb237bbf46",
   "metadata": {},
   "outputs": [
    {
     "name": "stdout",
     "output_type": "stream",
     "text": [
      "('1', '2', '3', '4', '5', '6')\n"
     ]
    }
   ],
   "source": [
    "#3.) \n",
    "\n",
    "l1 = [1,2,3,4,5,6]\n",
    "\n",
    "In_String = tuple(map(lambda x : str(x), l1))\n",
    "print(In_String)"
   ]
  },
  {
   "cell_type": "code",
   "execution_count": 6,
   "id": "669a9457-64e8-4e4f-b83a-084b4377db58",
   "metadata": {},
   "outputs": [
    {
     "name": "stdout",
     "output_type": "stream",
     "text": [
      "15511210043330985984000000\n"
     ]
    }
   ],
   "source": [
    "#4.) \n",
    "\n",
    "from functools import reduce\n",
    "\n",
    "l1 = range(1, 26)\n",
    "\n",
    "ans = reduce(lambda x,y : x*y, l1)\n",
    "print(ans)"
   ]
  },
  {
   "cell_type": "code",
   "execution_count": 12,
   "id": "e95ed33d-ee66-49eb-bdae-26edf8ff0ae3",
   "metadata": {},
   "outputs": [
    {
     "name": "stdout",
     "output_type": "stream",
     "text": [
      "[6, 60, 90, 120]\n"
     ]
    }
   ],
   "source": [
    "#5.)\n",
    "\n",
    "l1 = [2, 3, 6, 9, 27, 60, 90, 120, 55, 46]\n",
    "\n",
    "ans2 = list(filter(lambda x : x%2==0 and x%3==0, l1 ))\n",
    "print(ans2)"
   ]
  },
  {
   "cell_type": "code",
   "execution_count": 13,
   "id": "108a5c03-a9f6-4c4b-98bb-f35e690e5b36",
   "metadata": {},
   "outputs": [
    {
     "name": "stdout",
     "output_type": "stream",
     "text": [
      "Palindromes: ['madam', 'racecar', 'level', 'kayak']\n"
     ]
    }
   ],
   "source": [
    "#6.) \n",
    "\n",
    "words = [\"madam\", \"racecar\", \"hello\", \"level\", \"kayak\", \"banana\"]\n",
    "\n",
    "# Define a lambda function to check if a string is a palindrome\n",
    "is_palindrome = lambda word: word.lower() == word[::-1].lower()\n",
    "\n",
    "# Use filter() with the lambda function to find palindromes\n",
    "palindromes = list(filter(is_palindrome, words))\n",
    "\n",
    "print(\"Palindromes:\", palindromes)\n"
   ]
  },
  {
   "cell_type": "code",
   "execution_count": null,
   "id": "ca46afcc-3d91-4690-b99a-247775550063",
   "metadata": {},
   "outputs": [],
   "source": []
  }
 ],
 "metadata": {
  "kernelspec": {
   "display_name": "Python 3 (ipykernel)",
   "language": "python",
   "name": "python3"
  },
  "language_info": {
   "codemirror_mode": {
    "name": "ipython",
    "version": 3
   },
   "file_extension": ".py",
   "mimetype": "text/x-python",
   "name": "python",
   "nbconvert_exporter": "python",
   "pygments_lexer": "ipython3",
   "version": "3.10.8"
  }
 },
 "nbformat": 4,
 "nbformat_minor": 5
}
