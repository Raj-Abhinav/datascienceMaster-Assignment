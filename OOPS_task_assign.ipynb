{
 "cells": [
  {
   "cell_type": "code",
   "execution_count": null,
   "id": "94d3dba2-3dfd-4b96-a7b2-7840d2060edf",
   "metadata": {},
   "outputs": [],
   "source": [
    "#1.)\n",
    "\n",
    "class vehicle:\n",
    "    \n",
    "    def __init__(self, name_of_vehicle, max_speed, average_of_vehicle):\n",
    "        self.name_of_vehicle = name_of_vehicle\n",
    "        self.max_speed = max_speed\n",
    "        self.average_of_vehicle = average_of_vehicle"
   ]
  },
  {
   "cell_type": "code",
   "execution_count": null,
   "id": "b45e842a-b587-4b99-a0d2-0c47ecee1cb2",
   "metadata": {},
   "outputs": [],
   "source": [
    "#2.)\n",
    "\n",
    "class car(vehicle):\n",
    "    \n",
    "    def seating_capacity(self, capacity):\n",
    "        return f\"The seating capacity of {self.name_of_vehicle} is {capacity} passengers\""
   ]
  },
  {
   "cell_type": "code",
   "execution_count": 1,
   "id": "f361f794-382b-472a-9b85-722f373bddba",
   "metadata": {},
   "outputs": [],
   "source": [
    "#3.)\n",
    "\n",
    "\"\"\"One child inherits the properties of more than one parent i.e. one child class with multiple parent classses\"\"\"\n",
    "\n",
    "class mother:\n",
    "    def mothers_message(self):\n",
    "        return \"I am the mother of the child...\"\n",
    "class father:\n",
    "    def fathers_message(self):\n",
    "        return \"I am the father of the  child...\"\n",
    "    \n",
    "    \n",
    "class child(mother, father):\n",
    "    pass\n",
    "\n",
    "\n",
    "#object_creation\n",
    "child = child()\n",
    "\n",
    "child.fathers_message()\n",
    "child.mothers_message()"
   ]
  },
  {
   "cell_type": "code",
   "execution_count": null,
   "id": "74653bcc-8791-4389-b048-ac1fbe51e0b1",
   "metadata": {},
   "outputs": [],
   "source": [
    "#4.)\n",
    "\"\"\"Getters and Setters in python are special methods that allows controlled access of the data\n",
    "members of a class to the user\"\"\"\n",
    "\n",
    "class car:\n",
    "    def __init__(self, car_speed):\n",
    "        self.__car_speed = car_speed\n",
    "        \n",
    "    def set_speed(self, speed):\n",
    "        self.__car_speed = 0 if speed<=0 else speed\n",
    "        \n",
    "    def get_speed(self):\n",
    "        return self.__car_speed\n",
    "        "
   ]
  },
  {
   "cell_type": "code",
   "execution_count": 3,
   "id": "25639a89-ee20-4871-a48f-bb184e86f7a3",
   "metadata": {},
   "outputs": [],
   "source": [
    "#5.)\n",
    "\n",
    "\"\"\"Method overriding in python is the concept of oop world with the help of which we can change the \n",
    "implementation of a method in the child class which is already been defined in the parent class...\"\"\"\n",
    "\n",
    "class car:\n",
    "    def car_sound(self):\n",
    "        return \"Car sounds as per modelName\"\n",
    "    \n",
    "class Rolls_Royce(car):\n",
    "    def car_sound(self):\n",
    "        return \"Vroom!!\"\n",
    "    \n",
    "class  Range_Rover(car):\n",
    "    def car_sound(self):\n",
    "        return \"Groom!!\""
   ]
  },
  {
   "cell_type": "code",
   "execution_count": null,
   "id": "5ada34e5-b315-4ea3-9e64-4d05a74ff1e7",
   "metadata": {},
   "outputs": [],
   "source": []
  }
 ],
 "metadata": {
  "kernelspec": {
   "display_name": "Python 3 (ipykernel)",
   "language": "python",
   "name": "python3"
  },
  "language_info": {
   "codemirror_mode": {
    "name": "ipython",
    "version": 3
   },
   "file_extension": ".py",
   "mimetype": "text/x-python",
   "name": "python",
   "nbconvert_exporter": "python",
   "pygments_lexer": "ipython3",
   "version": "3.10.8"
  }
 },
 "nbformat": 4,
 "nbformat_minor": 5
}
